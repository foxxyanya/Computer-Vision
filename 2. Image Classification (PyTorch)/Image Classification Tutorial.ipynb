{
 "cells": [
  {
   "cell_type": "markdown",
   "id": "726252bf",
   "metadata": {
    "id": "726252bf"
   },
   "source": [
    "# Load and preprocess data"
   ]
  },
  {
   "cell_type": "markdown",
   "id": "10c05a57",
   "metadata": {},
   "source": [
    "Here is [the link](https://drive.google.com/drive/folders/1CWT1sOLk5yEr-OK_Wttl3ZamGcBiAJDc?usp=sharing) to the data and final models weights."
   ]
  },
  {
   "cell_type": "code",
   "execution_count": 3,
   "id": "3b3307a2",
   "metadata": {
    "id": "3b3307a2"
   },
   "outputs": [],
   "source": [
    "import sys\n",
    "\n",
    "# enter here your path to 'src' and 'model_weights' dirs\n",
    "sys.path.append(r\"/cv-task2/src\")\n",
    "sys.path.append(r\"/cv-task2/model_weights\")"
   ]
  },
  {
   "cell_type": "code",
   "execution_count": 4,
   "id": "2681904e",
   "metadata": {
    "id": "2681904e"
   },
   "outputs": [],
   "source": [
    "from preprocess import collect_ims_by_classes, create_ims_and_labels_arrays, create_train_val_variables\n",
    "\n",
    "# enter here your path to dir with the original classification data\n",
    "data_path = r'/cv-course-data/Classification_data'"
   ]
  },
  {
   "cell_type": "markdown",
   "id": "ekZRzMd7Gl3z",
   "metadata": {
    "id": "ekZRzMd7Gl3z"
   },
   "source": [
    "Collecting data by classes"
   ]
  },
  {
   "cell_type": "code",
   "execution_count": 5,
   "id": "edZz87ZX8Vvq",
   "metadata": {
    "id": "edZz87ZX8Vvq"
   },
   "outputs": [],
   "source": [
    "training_data_path = data_path + r'/train'\n",
    "class_to_ims = collect_ims_by_classes(training_data_path)"
   ]
  },
  {
   "cell_type": "code",
   "execution_count": 6,
   "id": "5ce57d42",
   "metadata": {
    "id": "5ce57d42"
   },
   "outputs": [],
   "source": [
    "class_l = list(class_to_ims.keys())\n",
    "n_classes = len(class_l)\n",
    "class_id = {class_name: id_ for id_, class_name in enumerate(class_l)}"
   ]
  },
  {
   "cell_type": "code",
   "execution_count": 7,
   "id": "x9qJyEtBNfz7",
   "metadata": {
    "colab": {
     "base_uri": "https://localhost:8080/"
    },
    "id": "x9qJyEtBNfz7",
    "outputId": "42f36e18-33d9-430a-c9ae-b6fcf9625d47"
   },
   "outputs": [
    {
     "data": {
      "text/plain": [
       "['forest', 'glacier', 'mountain', 'buildings', 'street', 'sea']"
      ]
     },
     "execution_count": 7,
     "metadata": {},
     "output_type": "execute_result"
    }
   ],
   "source": [
    "class_l"
   ]
  },
  {
   "cell_type": "code",
   "execution_count": 8,
   "id": "124d5326",
   "metadata": {
    "colab": {
     "base_uri": "https://localhost:8080/"
    },
    "id": "124d5326",
    "outputId": "1e25fde1-aea1-4439-9dd2-b076e94c7c0b"
   },
   "outputs": [
    {
     "data": {
      "text/plain": [
       "{'buildings': 2191,\n",
       " 'forest': 2271,\n",
       " 'glacier': 2424,\n",
       " 'mountain': 2512,\n",
       " 'sea': 2274,\n",
       " 'street': 2382}"
      ]
     },
     "execution_count": 8,
     "metadata": {},
     "output_type": "execute_result"
    }
   ],
   "source": [
    "{class_name: len(ims) for class_name, ims in class_to_ims.items()}"
   ]
  },
  {
   "cell_type": "markdown",
   "id": "gJ6C39m_HCD5",
   "metadata": {
    "id": "gJ6C39m_HCD5"
   },
   "source": [
    "Converting the train data into np.arrays (Reshaping images to one size (150, 150, 3), shuffling the dataset)"
   ]
  },
  {
   "cell_type": "code",
   "execution_count": 9,
   "id": "6487237c",
   "metadata": {
    "id": "6487237c"
   },
   "outputs": [],
   "source": [
    "train_samples, train_labels = create_ims_and_labels_arrays(class_to_ims, class_id)"
   ]
  },
  {
   "cell_type": "markdown",
   "id": "188b976f",
   "metadata": {
    "id": "188b976f"
   },
   "source": [
    "## Classical Features extraction"
   ]
  },
  {
   "cell_type": "code",
   "execution_count": 10,
   "id": "79f98333",
   "metadata": {
    "id": "79f98333"
   },
   "outputs": [],
   "source": [
    "import numpy as np\n",
    "from preprocess.extract_features import to_hog, to_color_hist"
   ]
  },
  {
   "cell_type": "markdown",
   "id": "Nemjp7Y2HXTB",
   "metadata": {
    "id": "Nemjp7Y2HXTB"
   },
   "source": [
    "#### The simplest way: just flatten an original image to a 1-dimensional vector "
   ]
  },
  {
   "cell_type": "code",
   "execution_count": 11,
   "id": "c7c471bb",
   "metadata": {
    "colab": {
     "base_uri": "https://localhost:8080/"
    },
    "id": "c7c471bb",
    "outputId": "ff674a00-3875-4c83-9476-e467dfb3c345"
   },
   "outputs": [
    {
     "data": {
      "text/plain": [
       "(14054, 67500)"
      ]
     },
     "execution_count": 11,
     "metadata": {},
     "output_type": "execute_result"
    }
   ],
   "source": [
    "train_fl = np.reshape(train_samples, (train_samples.shape[0], -1))\n",
    "train_fl.shape"
   ]
  },
  {
   "cell_type": "markdown",
   "id": "e-32GPE7Hn_c",
   "metadata": {
    "id": "e-32GPE7Hn_c"
   },
   "source": [
    "#### Image to Histogram of Oriented Gradients "
   ]
  },
  {
   "cell_type": "code",
   "execution_count": 12,
   "id": "ee8c3329",
   "metadata": {
    "colab": {
     "base_uri": "https://localhost:8080/"
    },
    "id": "ee8c3329",
    "outputId": "e727ed07-f1da-46c6-8c74-62d8ac21f95a"
   },
   "outputs": [
    {
     "data": {
      "text/plain": [
       "(14054, 8100)"
      ]
     },
     "execution_count": 12,
     "metadata": {},
     "output_type": "execute_result"
    }
   ],
   "source": [
    "train_n = train_samples.shape[0]\n",
    "train_hog = np.apply_along_axis(to_hog, 1, train_samples.reshape((train_n, -1)))\n",
    "train_hog.shape"
   ]
  },
  {
   "cell_type": "markdown",
   "id": "JcRiy8EJHus9",
   "metadata": {
    "id": "JcRiy8EJHus9"
   },
   "source": [
    "#### Image to Color Histogram"
   ]
  },
  {
   "cell_type": "code",
   "execution_count": 13,
   "id": "0692e148",
   "metadata": {
    "colab": {
     "base_uri": "https://localhost:8080/"
    },
    "id": "0692e148",
    "outputId": "dd038983-73f4-42df-bb3c-ba1694752ad8",
    "scrolled": true
   },
   "outputs": [
    {
     "data": {
      "text/plain": [
       "(14054, 192)"
      ]
     },
     "execution_count": 13,
     "metadata": {},
     "output_type": "execute_result"
    }
   ],
   "source": [
    "train_ch = np.apply_along_axis(to_color_hist, 1, train_samples.reshape((train_n, -1)))\n",
    "train_ch.shape"
   ]
  },
  {
   "cell_type": "markdown",
   "id": "b27615a4",
   "metadata": {
    "id": "b27615a4"
   },
   "source": [
    "## Torch Variables"
   ]
  },
  {
   "cell_type": "code",
   "execution_count": 14,
   "id": "e6166f60",
   "metadata": {
    "id": "e6166f60"
   },
   "outputs": [],
   "source": [
    "n_samples = train_samples.shape[0]\n",
    "proportion_val = 0.2\n",
    "n_val = int(n_samples * proportion_val)\n",
    "n_train = n_samples - n_val"
   ]
  },
  {
   "cell_type": "markdown",
   "id": "P5cSYE1QH2dj",
   "metadata": {
    "id": "P5cSYE1QH2dj"
   },
   "source": [
    "Converting np.arrays to torch Variables"
   ]
  },
  {
   "cell_type": "code",
   "execution_count": 15,
   "id": "652fd870",
   "metadata": {
    "id": "652fd870"
   },
   "outputs": [],
   "source": [
    "# for original images\n",
    "X_train, X_val, y_train, y_val = create_train_val_variables(train_samples, train_labels, n_train)\n",
    "# for flatten images\n",
    "X_fl_train, X_fl_val, y_fl_train, y_fl_val = create_train_val_variables(train_fl, train_labels, n_train)\n",
    "# # for HOG images\n",
    "X_hog_train, X_hog_val, y_hog_train, y_hog_val = create_train_val_variables(train_hog, train_labels, n_train)\n",
    "# # for Color Histogram images\n",
    "X_ch_train, X_ch_val, y_ch_train, y_ch_val = create_train_val_variables(train_ch, train_labels, n_train)\n",
    "\n",
    "# Reshaping ((n_batches, n_channels, height, width) format is needed for torch cnn layers)\n",
    "X_train = X_train.permute(0, 3, 1, 2)\n",
    "X_val = X_val.permute(0, 3, 1, 2)"
   ]
  },
  {
   "cell_type": "markdown",
   "id": "595a87a9",
   "metadata": {
    "id": "595a87a9"
   },
   "source": [
    "# Train models"
   ]
  },
  {
   "cell_type": "markdown",
   "id": "k_OBKwyFIjfU",
   "metadata": {
    "id": "k_OBKwyFIjfU"
   },
   "source": [
    "#### Only for demonstration purposes. The final models saved in the `model_weights` dir (and used in \"Evaluate\" section)"
   ]
  },
  {
   "cell_type": "markdown",
   "id": "b672b124",
   "metadata": {
    "id": "b672b124"
   },
   "source": [
    "## KNN"
   ]
  },
  {
   "cell_type": "code",
   "execution_count": 16,
   "id": "b7a3f67b",
   "metadata": {
    "id": "b7a3f67b"
   },
   "outputs": [],
   "source": [
    "from define_model.knn import KNN\n",
    "\n",
    "knn = KNN(k=10)\n",
    "knn.train(train_samples, train_labels)"
   ]
  },
  {
   "cell_type": "markdown",
   "id": "8fd114da",
   "metadata": {
    "id": "8fd114da"
   },
   "source": [
    "## LR with flatten images"
   ]
  },
  {
   "cell_type": "code",
   "execution_count": 17,
   "id": "4dee3b39",
   "metadata": {
    "id": "4dee3b39"
   },
   "outputs": [],
   "source": [
    "from train.train import train"
   ]
  },
  {
   "cell_type": "code",
   "execution_count": 18,
   "id": "c7437cc0",
   "metadata": {
    "id": "c7437cc0"
   },
   "outputs": [],
   "source": [
    "from define_model.linear_regression import LinearClassificationModel"
   ]
  },
  {
   "cell_type": "code",
   "execution_count": 19,
   "id": "7bdf6f92",
   "metadata": {
    "colab": {
     "base_uri": "https://localhost:8080/",
     "height": 216
    },
    "id": "7bdf6f92",
    "outputId": "443283c1-1dcc-4258-b696-ec3810586dc4"
   },
   "outputs": [
    {
     "name": "stdout",
     "output_type": "stream",
     "text": [
      "EPOCH 0 / 0\n"
     ]
    },
    {
     "name": "stderr",
     "output_type": "stream",
     "text": [
      "Batches: 100%|██████████| 175/175 [00:00<00:00, 255.36it/s]\n"
     ]
    },
    {
     "name": "stdout",
     "output_type": "stream",
     "text": [
      "TRAIN       accuracy: 0.4001245108502312\n",
      "VALIDATION  accuracy: 0.3701067615658363\n",
      "Weights saved to ./tmp_models_weights/lr_flatten/Last model.pt.\n",
      "Weights saved to ./tmp_models_weights/lr_flatten/Best model.pt.\n",
      "\n",
      "\n",
      "Final TRAIN       accuracy: 0.4001245108502312\n",
      "Final VALIDATION  accuracy: 0.3701067615658363\n"
     ]
    },
    {
     "data": {
      "text/plain": [
       "<Figure size 432x288 with 0 Axes>"
      ]
     },
     "metadata": {},
     "output_type": "display_data"
    }
   ],
   "source": [
    "lr = LinearClassificationModel(X_fl_train.shape[1], n_classes)\n",
    "\n",
    "path_checkpoints=\"./tmp_models_weights/lr_flatten\"\n",
    "\n",
    "iter_l, epoch_l, loss_l, acc_train_l, acc_val_l = train(\n",
    "    lr, X_fl_train, y_fl_train, X_fl_val, y_fl_val, \n",
    "    batch_size=64, num_epochs=1,\n",
    "    save_checkpoints=True, regularity_checkpoints=1, path_checkpoints=path_checkpoints\n",
    ")"
   ]
  },
  {
   "cell_type": "markdown",
   "id": "4a6a44df",
   "metadata": {
    "id": "4a6a44df"
   },
   "source": [
    "## LR with HOG features"
   ]
  },
  {
   "cell_type": "code",
   "execution_count": 20,
   "id": "316f18a4",
   "metadata": {
    "colab": {
     "base_uri": "https://localhost:8080/",
     "height": 216
    },
    "id": "316f18a4",
    "outputId": "c22b4098-5508-457f-989f-9d5e2074117f"
   },
   "outputs": [
    {
     "name": "stdout",
     "output_type": "stream",
     "text": [
      "EPOCH 0 / 0\n"
     ]
    },
    {
     "name": "stderr",
     "output_type": "stream",
     "text": [
      "Batches: 100%|██████████| 175/175 [00:00<00:00, 1147.23it/s]\n"
     ]
    },
    {
     "name": "stdout",
     "output_type": "stream",
     "text": [
      "TRAIN       accuracy: 0.38029171113482746\n",
      "VALIDATION  accuracy: 0.3601423487544484\n",
      "Weights saved to ./tmp_models_weights/lr_hog/Last model.pt.\n",
      "Weights saved to ./tmp_models_weights/lr_hog/Best model.pt.\n",
      "\n",
      "\n",
      "Final TRAIN       accuracy: 0.38029171113482746\n",
      "Final VALIDATION  accuracy: 0.3601423487544484\n"
     ]
    },
    {
     "data": {
      "text/plain": [
       "<Figure size 432x288 with 0 Axes>"
      ]
     },
     "metadata": {},
     "output_type": "display_data"
    }
   ],
   "source": [
    "lr = LinearClassificationModel(X_hog_train.shape[1], n_classes)\n",
    "\n",
    "path_checkpoints=\"./tmp_models_weights/lr_hog\"\n",
    "\n",
    "iter_l, epoch_l, loss_l, acc_train_l, acc_val_l = train(\n",
    "    lr, X_hog_train, y_hog_train, X_hog_val, y_hog_val, \n",
    "    batch_size=64, num_epochs=1,\n",
    "    save_checkpoints=True, regularity_checkpoints=1, path_checkpoints=path_checkpoints,\n",
    ")"
   ]
  },
  {
   "cell_type": "markdown",
   "id": "83860c62",
   "metadata": {
    "id": "83860c62"
   },
   "source": [
    "## LR with Color Histogram features"
   ]
  },
  {
   "cell_type": "code",
   "execution_count": 21,
   "id": "d044bedc",
   "metadata": {
    "colab": {
     "base_uri": "https://localhost:8080/",
     "height": 216
    },
    "id": "d044bedc",
    "outputId": "b0a054e7-5306-4aa6-8ea3-1cf5d2f74171"
   },
   "outputs": [
    {
     "name": "stdout",
     "output_type": "stream",
     "text": [
      "EPOCH 0 / 0\n"
     ]
    },
    {
     "name": "stderr",
     "output_type": "stream",
     "text": [
      "Batches: 100%|██████████| 175/175 [00:00<00:00, 1936.29it/s]"
     ]
    },
    {
     "name": "stdout",
     "output_type": "stream",
     "text": [
      "TRAIN       accuracy: 0.19343649946638208\n",
      "VALIDATION  accuracy: 0.17686832740213523\n"
     ]
    },
    {
     "name": "stderr",
     "output_type": "stream",
     "text": [
      "\n"
     ]
    },
    {
     "name": "stdout",
     "output_type": "stream",
     "text": [
      "Weights saved to ./tmp_models_weights/lr_ch/Last model.pt.\n",
      "Weights saved to ./tmp_models_weights/lr_ch/Best model.pt.\n",
      "\n",
      "\n",
      "Final TRAIN       accuracy: 0.19343649946638208\n",
      "Final VALIDATION  accuracy: 0.17686832740213523\n"
     ]
    },
    {
     "data": {
      "text/plain": [
       "<Figure size 432x288 with 0 Axes>"
      ]
     },
     "metadata": {},
     "output_type": "display_data"
    }
   ],
   "source": [
    "lr = LinearClassificationModel(X_ch_train.shape[1], n_classes)\n",
    "\n",
    "path_checkpoints=\"./tmp_models_weights/lr_ch\"\n",
    "\n",
    "iter_l, epoch_l, loss_l, acc_train_l, acc_val_l = train(\n",
    "    lr, X_ch_train, y_ch_train, X_ch_val, y_ch_val, \n",
    "    batch_size=64, num_epochs=1,\n",
    "    save_checkpoints=True, regularity_checkpoints=1, path_checkpoints=path_checkpoints,\n",
    ")"
   ]
  },
  {
   "cell_type": "markdown",
   "id": "72d26583",
   "metadata": {
    "id": "72d26583"
   },
   "source": [
    "## SVM"
   ]
  },
  {
   "cell_type": "code",
   "execution_count": 22,
   "id": "b98bc4ac",
   "metadata": {
    "id": "b98bc4ac"
   },
   "outputs": [],
   "source": [
    "from sklearn import svm\n",
    "\n",
    "svc = svm.SVC(C=0.1, gamma=0.0001, kernel='poly', probability=True)\n",
    "# svm training is extremely slow on large datasets, so I use a small one for the demo\n",
    "svc.fit(X_fl_train[:100], y_fl_train[:100]); "
   ]
  },
  {
   "cell_type": "markdown",
   "id": "54d81898",
   "metadata": {
    "id": "54d81898"
   },
   "source": [
    "## CNN"
   ]
  },
  {
   "cell_type": "code",
   "execution_count": 23,
   "id": "da0b05a4",
   "metadata": {
    "id": "da0b05a4"
   },
   "outputs": [],
   "source": [
    "from define_model.cnn import CNNClassificationModel\n",
    "import torch"
   ]
  },
  {
   "cell_type": "code",
   "execution_count": 24,
   "id": "33d2e4d4",
   "metadata": {
    "colab": {
     "base_uri": "https://localhost:8080/",
     "height": 216
    },
    "id": "33d2e4d4",
    "outputId": "db58f745-3177-4b34-8ea2-1e861764fa9f"
   },
   "outputs": [
    {
     "name": "stdout",
     "output_type": "stream",
     "text": [
      "EPOCH 0 / 0\n"
     ]
    },
    {
     "name": "stderr",
     "output_type": "stream",
     "text": [
      "Batches: 100%|██████████| 15/15 [01:46<00:00,  7.10s/it]\n"
     ]
    },
    {
     "name": "stdout",
     "output_type": "stream",
     "text": [
      "TRAIN       accuracy: 0.252\n",
      "VALIDATION  accuracy: 0.275\n",
      "Weights saved to ./tmp_models_weights/cnn/Last model.pt.\n",
      "Weights saved to ./tmp_models_weights/cnn/Best model.pt.\n",
      "\n",
      "\n",
      "Final TRAIN       accuracy: 0.252\n",
      "Final VALIDATION  accuracy: 0.275\n"
     ]
    },
    {
     "data": {
      "text/plain": [
       "<Figure size 432x288 with 0 Axes>"
      ]
     },
     "metadata": {},
     "output_type": "display_data"
    }
   ],
   "source": [
    "cnn = CNNClassificationModel()\n",
    "\n",
    "cnn_path_checkpoints=\"./tmp_models_weights/cnn\"\n",
    "\n",
    "iter_l, epoch_l, loss_l, acc_train_l, acc_val_l = train(\n",
    "    cnn, X_train[:1000], y_train[:1000], X_val[:200], y_val[:200], # smaller datasets for the demo\n",
    "    batch_size=64, num_epochs=1,\n",
    "    optimizer=torch.optim.Adam(cnn.parameters(), lr=0.001),\n",
    "    save_checkpoints=True, regularity_checkpoints=1, path_checkpoints=cnn_path_checkpoints\n",
    ")"
   ]
  },
  {
   "cell_type": "markdown",
   "id": "2b93f212",
   "metadata": {
    "id": "2b93f212"
   },
   "source": [
    "### Restore Training CNN"
   ]
  },
  {
   "cell_type": "code",
   "execution_count": 26,
   "id": "fb5f72e0",
   "metadata": {
    "colab": {
     "base_uri": "https://localhost:8080/",
     "height": 361
    },
    "id": "fb5f72e0",
    "outputId": "fbc3ff9b-9e3c-4d37-b20f-d08fb6311de1"
   },
   "outputs": [
    {
     "name": "stdout",
     "output_type": "stream",
     "text": [
      "EPOCH 0 / 1\n"
     ]
    },
    {
     "name": "stderr",
     "output_type": "stream",
     "text": [
      "Batches: 100%|██████████| 15/15 [01:46<00:00,  7.08s/it]\n"
     ]
    },
    {
     "name": "stdout",
     "output_type": "stream",
     "text": [
      "TRAIN       accuracy: 0.267\n",
      "VALIDATION  accuracy: 0.32\n",
      "Weights saved to .\\tmp_models_weights\\cnn-resumed/Last model.pt.\n",
      "Weights saved to .\\tmp_models_weights\\cnn-resumed/Best model.pt.\n",
      "\n",
      "\n",
      "EPOCH 1 / 1\n"
     ]
    },
    {
     "name": "stderr",
     "output_type": "stream",
     "text": [
      "Batches: 100%|██████████| 15/15 [01:46<00:00,  7.10s/it]\n"
     ]
    },
    {
     "name": "stdout",
     "output_type": "stream",
     "text": [
      "TRAIN       accuracy: 0.395\n",
      "VALIDATION  accuracy: 0.445\n",
      "Weights saved to .\\tmp_models_weights\\cnn-resumed/Last model.pt.\n",
      "Weights saved to .\\tmp_models_weights\\cnn-resumed/Best model.pt.\n",
      "\n",
      "\n",
      "Final TRAIN       accuracy: 0.395\n",
      "Final VALIDATION  accuracy: 0.445\n"
     ]
    },
    {
     "data": {
      "text/plain": [
       "<Figure size 432x288 with 0 Axes>"
      ]
     },
     "metadata": {},
     "output_type": "display_data"
    }
   ],
   "source": [
    "cnn = CNNClassificationModel()\n",
    "# let's assume we decided to change the lr during the training process\n",
    "optimizer = torch.optim.Adam(cnn.parameters(), lr=0.0001) \n",
    "\n",
    "previous_path_to_checkpoint = f\"{cnn_path_checkpoints}/Best model.pt\"\n",
    "checkpoint = torch.load(previous_path_to_checkpoint)\n",
    "cnn.load_state_dict(checkpoint['model_state_dict'])\n",
    "optimizer.load_state_dict(checkpoint['optimizer_state_dict'])\n",
    "last_epoch = checkpoint['epoch']\n",
    "last_loss = checkpoint['loss']\n",
    "\n",
    "path_checkpoints = \".\\\\tmp_models_weights\\\\cnn-resumed\"\n",
    "iter_l, epoch_l, loss_l, acc_train_l, acc_val_l = train(\n",
    "    cnn, X_train[:1000], y_train[:1000], X_val[:200], y_val[:200], \n",
    "    batch_size=64, num_epochs=2, optimizer=optimizer,\n",
    "    save_checkpoints=True, regularity_checkpoints=1, path_checkpoints=path_checkpoints,\n",
    "    resume_training=True, last_epoch=last_epoch,\n",
    ")"
   ]
  },
  {
   "cell_type": "markdown",
   "id": "f9693032",
   "metadata": {
    "id": "f9693032"
   },
   "source": [
    "# Evaluate"
   ]
  },
  {
   "cell_type": "markdown",
   "id": "fef5c3fe",
   "metadata": {
    "id": "fef5c3fe"
   },
   "source": [
    "## Load test data"
   ]
  },
  {
   "cell_type": "markdown",
   "id": "xUbqAQQVKaVQ",
   "metadata": {
    "id": "xUbqAQQVKaVQ"
   },
   "source": [
    "The preprocessing is the same as for the train data"
   ]
  },
  {
   "cell_type": "code",
   "execution_count": 27,
   "id": "3a5db515",
   "metadata": {
    "id": "3a5db515"
   },
   "outputs": [],
   "source": [
    "testing_data_path = data_path + r'/test'\n",
    "test_class_to_ims = collect_ims_by_classes(testing_data_path)\n",
    "\n",
    "test_samples, test_labels = create_ims_and_labels_arrays(test_class_to_ims, class_id)"
   ]
  },
  {
   "cell_type": "code",
   "execution_count": 28,
   "id": "2d1cce1c",
   "metadata": {
    "id": "2d1cce1c"
   },
   "outputs": [],
   "source": [
    "test_n = test_samples.shape[0]"
   ]
  },
  {
   "cell_type": "code",
   "execution_count": 29,
   "id": "ec6d84aa",
   "metadata": {
    "id": "ec6d84aa"
   },
   "outputs": [],
   "source": [
    "test_fl = np.reshape(test_samples, (test_n, -1))\n",
    "test_hog = np.apply_along_axis(to_hog, 1, test_samples.reshape((test_n, -1)))\n",
    "test_ch = np.apply_along_axis(to_color_hist, 1, test_samples.reshape((test_n, -1)))"
   ]
  },
  {
   "cell_type": "code",
   "execution_count": 30,
   "id": "98198326",
   "metadata": {
    "id": "98198326"
   },
   "outputs": [],
   "source": [
    "from preprocess.preprocess import create_variables\n",
    "\n",
    "X_test, y_test = create_variables(test_samples, test_labels)\n",
    "X_test = X_test.permute(0, 3, 1, 2)\n",
    "\n",
    "X_fl_test, y_fl_test = create_variables(test_fl, test_labels)\n",
    "X_hog_test, y_hog_test = create_variables(test_hog, test_labels)\n",
    "X_ch_test, y_ch_test = create_variables(test_ch, test_labels)"
   ]
  },
  {
   "cell_type": "markdown",
   "id": "1869f26e",
   "metadata": {
    "id": "1869f26e"
   },
   "source": [
    "## KNN"
   ]
  },
  {
   "cell_type": "code",
   "execution_count": 32,
   "id": "b11c6407",
   "metadata": {
    "colab": {
     "base_uri": "https://localhost:8080/"
    },
    "id": "b11c6407",
    "outputId": "15c005e5-75cc-4a36-8907-730c9f036624"
   },
   "outputs": [
    {
     "name": "stderr",
     "output_type": "stream",
     "text": [
      "Prediction: 100%|██████████| 500/500 [12:54<00:00,  1.55s/it]\n"
     ]
    },
    {
     "data": {
      "text/plain": [
       "0.282"
      ]
     },
     "execution_count": 32,
     "metadata": {},
     "output_type": "execute_result"
    }
   ],
   "source": [
    "knn.evaluate(test_samples[:500], test_labels[:500]) # too slow :("
   ]
  },
  {
   "cell_type": "markdown",
   "id": "00191950",
   "metadata": {
    "id": "00191950"
   },
   "source": [
    "## LR with flatten images"
   ]
  },
  {
   "cell_type": "markdown",
   "id": "DFNB4CdbK8ID",
   "metadata": {
    "id": "DFNB4CdbK8ID"
   },
   "source": [
    "Weights are saved while training on GPU. Dont forget to remap the trained models to the CPU device if it's used"
   ]
  },
  {
   "cell_type": "code",
   "execution_count": 33,
   "id": "IziXY6OkLiGa",
   "metadata": {
    "id": "IziXY6OkLiGa"
   },
   "outputs": [],
   "source": [
    "path_to_weights = r\"/content/drive/MyDrive/cv-task2/models_weights\" # Your path to the model_weights dir"
   ]
  },
  {
   "cell_type": "code",
   "execution_count": 34,
   "id": "ec6f773a",
   "metadata": {
    "id": "ec6f773a"
   },
   "outputs": [],
   "source": [
    "lr_flatten = LinearClassificationModel(X_fl_test.shape[1], n_classes)\n",
    "\n",
    "checkpoint = torch.load(path_to_weights + \"/linear_regression/flatten/Best model.pt\")\n",
    "lr_flatten.load_state_dict(checkpoint['model_state_dict']);"
   ]
  },
  {
   "cell_type": "code",
   "execution_count": 35,
   "id": "58c40efc",
   "metadata": {
    "colab": {
     "base_uri": "https://localhost:8080/"
    },
    "id": "58c40efc",
    "outputId": "18182915-cd73-4033-f156-4631b93b0c11"
   },
   "outputs": [
    {
     "data": {
      "text/plain": [
       "0.49566666666666664"
      ]
     },
     "execution_count": 35,
     "metadata": {},
     "output_type": "execute_result"
    }
   ],
   "source": [
    "from train.train import get_accuracy\n",
    "\n",
    "get_accuracy(lr_flatten, X_fl_test, y_fl_test, batch_size=64)"
   ]
  },
  {
   "cell_type": "markdown",
   "id": "3d3991a3",
   "metadata": {
    "id": "3d3991a3"
   },
   "source": [
    "### LR interpretation"
   ]
  },
  {
   "cell_type": "markdown",
   "id": "54PetPFvFBcT",
   "metadata": {
    "id": "54PetPFvFBcT"
   },
   "source": [
    "The first layer of NN is usually well interpreted. As linear regression is only able to learn one template for each class, it is basically very general. Let's look at the templates for each of the classes:"
   ]
  },
  {
   "cell_type": "code",
   "execution_count": 36,
   "id": "2ef26cc0",
   "metadata": {
    "colab": {
     "base_uri": "https://localhost:8080/",
     "height": 95
    },
    "id": "2ef26cc0",
    "outputId": "a765c671-d52f-422d-ff03-9c4e35d1e028"
   },
   "outputs": [
    {
     "data": {
      "image/png": "[encoded data removed]",
      "text/plain": [
       "<Figure size 432x288 with 6 Axes>"
      ]
     },
     "metadata": {
      "needs_background": "light"
     },
     "output_type": "display_data"
    }
   ],
   "source": [
    "from visualize.visualize_linear_regression import visualize_linear_regression\n",
    "\n",
    "visualize_linear_regression(lr_flatten, class_l=['forest', 'mountain', 'glacier', 'buildings', 'sea', 'street', ])"
   ]
  },
  {
   "cell_type": "markdown",
   "id": "be5c8150",
   "metadata": {
    "id": "be5c8150"
   },
   "source": [
    "## LR with HOG features"
   ]
  },
  {
   "cell_type": "code",
   "execution_count": 37,
   "id": "255ee12a",
   "metadata": {
    "id": "255ee12a"
   },
   "outputs": [],
   "source": [
    "lr_hog = LinearClassificationModel(X_hog_test.shape[1], n_classes)\n",
    "\n",
    "checkpoint = torch.load(path_to_weights + \"/linear_regression/hog/Best model.pt\")\n",
    "lr_hog.load_state_dict(checkpoint['model_state_dict']);"
   ]
  },
  {
   "cell_type": "code",
   "execution_count": 38,
   "id": "e3be0efa",
   "metadata": {
    "colab": {
     "base_uri": "https://localhost:8080/"
    },
    "id": "e3be0efa",
    "outputId": "7e491089-776a-4013-afc7-75210f6345ab"
   },
   "outputs": [
    {
     "data": {
      "text/plain": [
       "0.6516666666666666"
      ]
     },
     "execution_count": 38,
     "metadata": {},
     "output_type": "execute_result"
    }
   ],
   "source": [
    "get_accuracy(lr_hog, X_hog_test, y_hog_test, batch_size=64)"
   ]
  },
  {
   "cell_type": "markdown",
   "id": "36aa044d",
   "metadata": {
    "id": "36aa044d"
   },
   "source": [
    "## LR with Color Histogram features"
   ]
  },
  {
   "cell_type": "code",
   "execution_count": 39,
   "id": "5bc75c52",
   "metadata": {
    "id": "5bc75c52"
   },
   "outputs": [],
   "source": [
    "lr_ch = LinearClassificationModel(X_ch_test.shape[1], n_classes)\n",
    "\n",
    "checkpoint = torch.load(path_to_weights + \"/linear_regression/color_histogram/Best model.pt\")\n",
    "lr_ch.load_state_dict(checkpoint['model_state_dict']);"
   ]
  },
  {
   "cell_type": "code",
   "execution_count": 40,
   "id": "5f44c75f",
   "metadata": {
    "colab": {
     "base_uri": "https://localhost:8080/"
    },
    "id": "5f44c75f",
    "outputId": "72988c8b-ebb7-431d-ea9b-d293175d186c"
   },
   "outputs": [
    {
     "data": {
      "text/plain": [
       "0.4683333333333333"
      ]
     },
     "execution_count": 40,
     "metadata": {},
     "output_type": "execute_result"
    }
   ],
   "source": [
    "get_accuracy(lr_ch, X_ch_test, y_ch_test, batch_size=64)"
   ]
  },
  {
   "cell_type": "markdown",
   "id": "8b49edd1",
   "metadata": {
    "id": "8b49edd1"
   },
   "source": [
    "## SVM"
   ]
  },
  {
   "cell_type": "code",
   "execution_count": 41,
   "id": "79473d1d",
   "metadata": {
    "id": "79473d1d"
   },
   "outputs": [],
   "source": [
    "from sklearn.metrics import accuracy_score"
   ]
  },
  {
   "cell_type": "code",
   "execution_count": 42,
   "id": "acbb0042",
   "metadata": {
    "id": "acbb0042"
   },
   "outputs": [],
   "source": [
    "import pickle\n",
    "\n",
    "svc = pickle.load(open(path_to_weights + \"/svm/Best model.pickle\", \"rb\"))"
   ]
  },
  {
   "cell_type": "code",
   "execution_count": 43,
   "id": "f8d48c8d",
   "metadata": {
    "colab": {
     "base_uri": "https://localhost:8080/"
    },
    "id": "f8d48c8d",
    "outputId": "2ba9c19a-e322-473b-9817-f4460f81e878"
   },
   "outputs": [
    {
     "data": {
      "text/plain": [
       "0.494"
      ]
     },
     "execution_count": 43,
     "metadata": {},
     "output_type": "execute_result"
    }
   ],
   "source": [
    "y_fl_pred = svc.predict(X_fl_test)\n",
    "accuracy_score(y_fl_pred[:500], y_fl_test[:500])"
   ]
  },
  {
   "cell_type": "markdown",
   "id": "ad4ab435",
   "metadata": {
    "id": "ad4ab435"
   },
   "source": [
    "## CNN"
   ]
  },
  {
   "cell_type": "code",
   "execution_count": 44,
   "id": "wYGbRDVeCNXR",
   "metadata": {
    "id": "wYGbRDVeCNXR"
   },
   "outputs": [],
   "source": [
    "# tmp\n",
    "from define_model.cnn import CNNClassificationModel"
   ]
  },
  {
   "cell_type": "code",
   "execution_count": 45,
   "id": "f73c22e4",
   "metadata": {
    "id": "f73c22e4"
   },
   "outputs": [],
   "source": [
    "cnn = CNNClassificationModel()\n",
    "\n",
    "checkpoint = torch.load(path_to_weights + \"/cnn/Best model.pt\")\n",
    "cnn.load_state_dict(checkpoint['model_state_dict']);"
   ]
  },
  {
   "cell_type": "code",
   "execution_count": 46,
   "id": "3665dc07",
   "metadata": {
    "colab": {
     "base_uri": "https://localhost:8080/"
    },
    "id": "3665dc07",
    "outputId": "16850db1-9dd7-4f87-d0f5-47d3cde4698f"
   },
   "outputs": [
    {
     "data": {
      "text/plain": [
       "0.7666666666666667"
      ]
     },
     "execution_count": 46,
     "metadata": {},
     "output_type": "execute_result"
    }
   ],
   "source": [
    "get_accuracy(cnn, X_test, y_test, batch_size=64)"
   ]
  },
  {
   "cell_type": "markdown",
   "id": "pfTUg-qCCk7y",
   "metadata": {
    "id": "pfTUg-qCCk7y"
   },
   "source": [
    "# Results"
   ]
  },
  {
   "cell_type": "markdown",
   "id": "UQ0zZZmZCsX4",
   "metadata": {
    "id": "UQ0zZZmZCsX4"
   },
   "source": [
    " Final accuracy score\n",
    "- KNN\n",
    "                                              test ~0.31\n",
    "- Linear regression\n",
    "        Features: Flatten images   val ~0.50  test ~0.49\n",
    "        Features: HOG              val ~0.65  test ~0.65\n",
    "        Features: Color Histogram  val ~0.50  test ~0.47\n",
    "- SVM\n",
    "        Features: Flatten images   val ~0.52  test ~0.53\n",
    "- Convolutional NN\n",
    "                                   val ~0.84  test ~0.77\n"
   ]
  }
 ],
 "metadata": {
  "accelerator": "GPU",
  "colab": {
   "background_execution": "on",
   "collapsed_sections": [],
   "machine_shape": "hm",
   "name": "task2-tutorial.ipynb",
   "provenance": []
  },
  "gpuClass": "standard",
  "kernelspec": {
   "display_name": "Python 3 (ipykernel)",
   "language": "python",
   "name": "python3"
  },
  "language_info": {
   "codemirror_mode": {
    "name": "ipython",
    "version": 3
   },
   "file_extension": ".py",
   "mimetype": "text/x-python",
   "name": "python",
   "nbconvert_exporter": "python",
   "pygments_lexer": "ipython3",
   "version": "3.10.4"
  }
 },
 "nbformat": 4,
 "nbformat_minor": 5
}
